{
 "cells": [
  {
   "cell_type": "code",
   "execution_count": 1,
   "id": "7201270c-5762-40eb-aab0-7a11a1b08983",
   "metadata": {},
   "outputs": [],
   "source": [
    "import requests\n",
    "from bs4 import BeautifulSoup\n",
    "import pandas as pd"
   ]
  },
  {
   "cell_type": "code",
   "execution_count": 2,
   "id": "7c619431-7a26-4e74-a0b6-d641a118ea18",
   "metadata": {
    "tags": []
   },
   "outputs": [],
   "source": [
    "headers = {\n",
    "    'User-Agent': 'Mozilla/5.0 (Macintosh; Intel Mac OS X 10_15_7) AppleWebKit/537.36 (KHTML, like Gecko) Chrome/104.0.5112.79 Safari/537.36'\n",
    "}\n",
    "\n",
    "page = 'https://finance.yahoo.com/quote/%5EOMXC25/history?period1=1483228800&period2=1691798400&interval=1mo&filter=history&frequency=1mo&includeAdjustedClose=true'\n",
    "pageTree = requests.get(page, headers=headers)\n",
    "pageSoup = BeautifulSoup(pageTree.content, 'lxml')\n",
    "pageSoup\n",
    "table_node = pageSoup.find('table',class_=\"W(100%) M(0)\")\n",
    "\n"
   ]
  },
  {
   "cell_type": "code",
   "execution_count": 16,
   "id": "f8d3abbd-8c38-440e-b250-fd47fcbae41c",
   "metadata": {},
   "outputs": [],
   "source": [
    "def parse_html_table(table_node):\n",
    "    # Get the columns in a list\n",
    "    columns_html = table_node.thead.find_all('th')\n",
    "    # Extract the text\n",
    "    columns = [col.text for col in columns_html]\n",
    "\n",
    "    rows_list = table_node.tbody.find_all('tr')\n",
    "\n",
    "    data = []\n",
    "    for row_node in rows_list:\n",
    "        row = []\n",
    "        for child in row_node.children:\n",
    "            row.append(child.text)\n",
    "        data.append(row)\n",
    "    df = pd.DataFrame(data,columns=columns)\n",
    "    return df"
   ]
  },
  {
   "cell_type": "code",
   "execution_count": 17,
   "id": "9b1db2ad-a3b0-4464-b5ee-114de309d2c6",
   "metadata": {},
   "outputs": [
    {
     "data": {
      "text/html": [
       "<div>\n",
       "<style scoped>\n",
       "    .dataframe tbody tr th:only-of-type {\n",
       "        vertical-align: middle;\n",
       "    }\n",
       "\n",
       "    .dataframe tbody tr th {\n",
       "        vertical-align: top;\n",
       "    }\n",
       "\n",
       "    .dataframe thead th {\n",
       "        text-align: right;\n",
       "    }\n",
       "</style>\n",
       "<table border=\"1\" class=\"dataframe\">\n",
       "  <thead>\n",
       "    <tr style=\"text-align: right;\">\n",
       "      <th></th>\n",
       "      <th>Date</th>\n",
       "      <th>Open</th>\n",
       "    </tr>\n",
       "  </thead>\n",
       "  <tbody>\n",
       "    <tr>\n",
       "      <th>0</th>\n",
       "      <td>Aug 11, 2023</td>\n",
       "      <td>1,795.66</td>\n",
       "    </tr>\n",
       "    <tr>\n",
       "      <th>1</th>\n",
       "      <td>Aug 01, 2023</td>\n",
       "      <td>1,806.76</td>\n",
       "    </tr>\n",
       "    <tr>\n",
       "      <th>2</th>\n",
       "      <td>Jul 01, 2023</td>\n",
       "      <td>1,821.58</td>\n",
       "    </tr>\n",
       "    <tr>\n",
       "      <th>3</th>\n",
       "      <td>Jun 01, 2023</td>\n",
       "      <td>1,813.22</td>\n",
       "    </tr>\n",
       "    <tr>\n",
       "      <th>4</th>\n",
       "      <td>May 01, 2023</td>\n",
       "      <td>1,829.29</td>\n",
       "    </tr>\n",
       "    <tr>\n",
       "      <th>...</th>\n",
       "      <td>...</td>\n",
       "      <td>...</td>\n",
       "    </tr>\n",
       "    <tr>\n",
       "      <th>76</th>\n",
       "      <td>May 01, 2017</td>\n",
       "      <td>1,126.25</td>\n",
       "    </tr>\n",
       "    <tr>\n",
       "      <th>77</th>\n",
       "      <td>Apr 01, 2017</td>\n",
       "      <td>1,075.07</td>\n",
       "    </tr>\n",
       "    <tr>\n",
       "      <th>78</th>\n",
       "      <td>Mar 01, 2017</td>\n",
       "      <td>1,060.60</td>\n",
       "    </tr>\n",
       "    <tr>\n",
       "      <th>79</th>\n",
       "      <td>Feb 01, 2017</td>\n",
       "      <td>1,049.63</td>\n",
       "    </tr>\n",
       "    <tr>\n",
       "      <th>80</th>\n",
       "      <td>Jan 01, 2017</td>\n",
       "      <td>1,015.74</td>\n",
       "    </tr>\n",
       "  </tbody>\n",
       "</table>\n",
       "<p>81 rows × 2 columns</p>\n",
       "</div>"
      ],
      "text/plain": [
       "            Date      Open\n",
       "0   Aug 11, 2023  1,795.66\n",
       "1   Aug 01, 2023  1,806.76\n",
       "2   Jul 01, 2023  1,821.58\n",
       "3   Jun 01, 2023  1,813.22\n",
       "4   May 01, 2023  1,829.29\n",
       "..           ...       ...\n",
       "76  May 01, 2017  1,126.25\n",
       "77  Apr 01, 2017  1,075.07\n",
       "78  Mar 01, 2017  1,060.60\n",
       "79  Feb 01, 2017  1,049.63\n",
       "80  Jan 01, 2017  1,015.74\n",
       "\n",
       "[81 rows x 2 columns]"
      ]
     },
     "execution_count": 17,
     "metadata": {},
     "output_type": "execute_result"
    }
   ],
   "source": [
    "x = parse_html_table(table_node)\n",
    "x[['Date','Open']]"
   ]
  },
  {
   "cell_type": "code",
   "execution_count": null,
   "id": "591845a3-93d5-4eea-ab71-25d7f555a136",
   "metadata": {},
   "outputs": [],
   "source": []
  }
 ],
 "metadata": {
  "kernelspec": {
   "display_name": "Python 3 (ipykernel)",
   "language": "python",
   "name": "python3"
  },
  "language_info": {
   "codemirror_mode": {
    "name": "ipython",
    "version": 3
   },
   "file_extension": ".py",
   "mimetype": "text/x-python",
   "name": "python",
   "nbconvert_exporter": "python",
   "pygments_lexer": "ipython3",
   "version": "3.10.9"
  }
 },
 "nbformat": 4,
 "nbformat_minor": 5
}
